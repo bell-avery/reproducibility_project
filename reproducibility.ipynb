{
 "cells": [
  {
   "cell_type": "code",
   "execution_count": null,
   "metadata": {},
   "outputs": [],
   "source": [
    "#load libraries\n",
    "library(tidyverse)"
   ]
  },
  {
   "cell_type": "code",
   "execution_count": null,
   "metadata": {},
   "outputs": [],
   "source": [
    "#define helper functions\n",
    "find_library_prep <- function(entry) {\n",
    "  sapply(entry, function(x) {\n",
    "    if (grepl(\"(N)\", as.character(x), fixed = TRUE)) {\n",
    "      \"Nextera\"\n",
    "    } else if (grepl(\"(LA)\", as.character(x), fixed = TRUE)) {\n",
    "      \"Linker amplification\"\n",
    "    } else {\n",
    "      \"Standard\"\n",
    "    }\n",
    "  })\n",
    "}\n",
    "\n",
    "convert_sci_to_label <- function(sci_num) {\n",
    "  format(sci_num, scientific = FALSE)\n",
    "}"
   ]
  },
  {
   "cell_type": "code",
   "execution_count": null,
   "metadata": {},
   "outputs": [],
   "source": [
    "#load data\n",
    "article_data <- read_csv(\"article_data.csv\") %>%\n",
    "  mutate(prep = find_library_prep(`Library amplification (# cycles)`)) %>%\n",
    "  within({\n",
    "  `Library amplification (# cycles)` <- as.numeric(str_remove_all(`Library amplification (# cycles)`, \"\\\\(.*\\\\)\"))\n",
    "  `DNA source` <- str_remove_all(`DNA source`, \"Tara Oceans \")\n",
    "  })"
   ]
  },
  {
   "cell_type": "code",
   "execution_count": null,
   "metadata": {},
   "outputs": [],
   "source": [
    "#plot experiment 1\n",
    "ggplot(data = filter(article_data, Experiment == \"Experiment 1\"), aes(x = `Starting DNA (ng)`, y = `Library amplification (# cycles)`)) +\n",
    "  geom_point(aes(shape = Technology), size = 3) +\n",
    "  scale_x_continuous(limits = c(0.001, 10000), labels = convert_sci_to_label, trans = \"log10\") +\n",
    "  geom_text(aes(label = Replicates), hjust = -1, vjust = -1) +\n",
    "  labs(x = \"Starting DNA amount (ng)\",\n",
    "       y = \"Library amplification cycles\",\n",
    "       shape = \"Sequencing technology\") +\n",
    "  ggtitle(\"Experiment 1\") +\n",
    "  theme_bw(base_size = 14) +\n",
    "  theme(plot.title = element_text(size = 18, face = \"bold\"),\n",
    "        panel.grid.major = element_blank(), \n",
    "        panel.grid.minor = element_blank(),\n",
    "        panel.background = element_blank(), \n",
    "        axis.line = element_line(colour = \"black\"))"
   ]
  },
  {
   "cell_type": "code",
   "execution_count": null,
   "metadata": {},
   "outputs": [],
   "source": [
    "#plot experiment 2\n",
    "ggplot(data = filter(article_data, Experiment == \"Experiment 2\"), aes(x = `Starting DNA (ng)`, y = `Library amplification (# cycles)`)) +\n",
    "  geom_point(aes(color = prep), shape = \"square\", size = 3) +\n",
    "  geom_text(aes(label = Replicates), hjust = -1, vjust = -1) +\n",
    "  scale_y_continuous(limits = c(0, 25)) +\n",
    "  scale_x_continuous(limits = c(1, 1000), labels = convert_sci_to_label, trans = \"log10\") +\n",
    "  facet_wrap(~`DNA source`) +\n",
    "  labs(x = \"Starting DNA amount (ng)\",\n",
    "       y = \"Library amplification cycles\",\n",
    "       color = \"Library Prep.\") +\n",
    "  ggtitle(\"Experiment 2\") +\n",
    "  theme_bw(base_size = 14) +\n",
    "  theme(plot.title = element_text(size = 18, face = \"bold\"),\n",
    "        panel.grid.major = element_blank(), \n",
    "        panel.grid.minor = element_blank(),\n",
    "        panel.background = element_blank(), \n",
    "        axis.line = element_line(colour = \"black\"))\n"
   ]
  }
 ],
 "metadata": {
  "kernelspec": {
   "display_name": "R",
   "language": "R",
   "name": "ir"
  },
  "language_info": {
   "codemirror_mode": "r",
   "file_extension": ".r",
   "mimetype": "text/x-r-source",
   "name": "R",
   "pygments_lexer": "r",
   "version": "3.4.4"
  }
 },
 "nbformat": 4,
 "nbformat_minor": 2
}
